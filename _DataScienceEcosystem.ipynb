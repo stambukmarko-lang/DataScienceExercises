{
 "cells": [
  {
   "cell_type": "markdown",
   "id": "06109daa-4ac5-4488-a9dd-cecf112aca59",
   "metadata": {},
   "source": [
    "# Data Science Tools and Ecosystem using H1 style heading"
   ]
  },
  {
   "cell_type": "markdown",
   "id": "47f8376f-5a36-45b1-b97e-42da802ce7c0",
   "metadata": {},
   "source": [
    "In this notebook, Data Science Tools and Ecosystem are summarized."
   ]
  },
  {
   "cell_type": "markdown",
   "id": "30c70e51-f895-4a20-9e6d-9414b5687be5",
   "metadata": {},
   "source": [
    "Some of the popular languages that Data Scientists use are:\n",
    "\n",
    "1. **Python** – widely used for data analysis, machine learning, and automation.  \n",
    "2. **R** – great for statistical analysis and data visualization.  \n",
    "3. **SQL** – essential for working with and querying large datasets.  \n",
    "4. **Julia** – designed for high-performance numerical and scientific computing.  \n",
    "5. **Scala** – often used with Apache Spark for big data processing."
   ]
  },
  {
   "cell_type": "markdown",
   "id": "ef423e48-1488-4ad3-ba49-19f3c5f8cca9",
   "metadata": {},
   "source": [
    "Some of the commonly used libraries used by Data Scientists include:\n",
    "\n",
    "1. **NumPy** – for numerical computations and handling multidimensional arrays.  \n",
    "2. **Pandas** – for data manipulation and analysis using DataFrames.  \n",
    "3. **Matplotlib** – for creating visualizations and plots.  \n",
    "4. **Scikit-learn** – for machine learning algorithms and data preprocessing.  \n",
    "5. **TensorFlow** – for building and training deep learning models."
   ]
  },
  {
   "cell_type": "markdown",
   "id": "a3fd7be3-15f8-471e-bdbb-36ade1cebd93",
   "metadata": {},
   "source": [
    "| Data Science Tools |\n",
    "| ------------------ |\n",
    "| Jupyter Notebook |\n",
    "| RStudio|\n",
    "| Apache Zeppelin |\n"
   ]
  },
  {
   "cell_type": "markdown",
   "id": "6c0c9fe2-5c7f-4dbd-ac04-08e5c764bf20",
   "metadata": {},
   "source": [
    "### Below are a few examples of evaluating arithmetic expressions in Python"
   ]
  },
  {
   "cell_type": "code",
   "execution_count": 7,
   "id": "0e1406b7-bc1b-48a3-9348-a9b1cc6a235b",
   "metadata": {},
   "outputs": [
    {
     "data": {
      "text/plain": [
       "17"
      ]
     },
     "execution_count": 7,
     "metadata": {},
     "output_type": "execute_result"
    }
   ],
   "source": [
    "# This is a simple arithmetic expression to multiply then add integers\n",
    "(3 * 4) + 5"
   ]
  },
  {
   "cell_type": "code",
   "execution_count": 9,
   "id": "a7d00f2c-c2fc-40db-99b0-2878566f008e",
   "metadata": {},
   "outputs": [
    {
     "data": {
      "text/plain": [
       "3.3333333333333335"
      ]
     },
     "execution_count": 9,
     "metadata": {},
     "output_type": "execute_result"
    }
   ],
   "source": [
    "# This will convert 200 minutes to hours by diving by 60.\n",
    "200/60"
   ]
  },
  {
   "cell_type": "markdown",
   "id": "c1dfe69f-a10b-43c7-a68a-b603fadbc6a3",
   "metadata": {},
   "source": [
    "**Objectives**\n",
    "\n",
    "* Python\n",
    "* R\n",
    "* Julia\n",
    "* SQL"
   ]
  },
  {
   "cell_type": "markdown",
   "id": "1b330dbe-d8c3-4a65-9085-f14003732e6e",
   "metadata": {},
   "source": [
    "## Author\n",
    "Marko Štambuk"
   ]
  },
  {
   "cell_type": "code",
   "execution_count": null,
   "id": "53ae2c60-6230-4b68-beb4-0ac35a8f4882",
   "metadata": {},
   "outputs": [],
   "source": []
  }
 ],
 "metadata": {
  "kernelspec": {
   "display_name": "Python 3 (ipykernel)",
   "language": "python",
   "name": "python3"
  },
  "language_info": {
   "codemirror_mode": {
    "name": "ipython",
    "version": 3
   },
   "file_extension": ".py",
   "mimetype": "text/x-python",
   "name": "python",
   "nbconvert_exporter": "python",
   "pygments_lexer": "ipython3",
   "version": "3.11.13"
  }
 },
 "nbformat": 4,
 "nbformat_minor": 5
}
